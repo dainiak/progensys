{
 "cells": [
  {
   "cell_type": "code",
   "execution_count": 1,
   "metadata": {
    "collapsed": true
   },
   "outputs": [],
   "source": [
    "import lzma\n",
    "from itertools import combinations, product\n",
    "from collections import defaultdict\n",
    "from tqdm import tqdm\n",
    "import re\n",
    "import os\n",
    "import sys\n",
    "\n",
    "\n",
    "class keydefaultdict(defaultdict):\n",
    "    def __missing__(self, key):\n",
    "        if self.default_factory is None:\n",
    "            raise KeyError(key)\n",
    "        else:\n",
    "            ret = self[key] = self.default_factory(key)\n",
    "            return ret\n",
    "\n",
    "\n",
    "compressed_length = keydefaultdict()\n",
    "\n",
    "\n",
    "def compressor(quality):\n",
    "    return (\n",
    "        lambda s: len(lzma.compress(\n",
    "            s,\n",
    "            format=lzma.FORMAT_RAW,\n",
    "            filters=[{\"id\": lzma.FILTER_LZMA2, \"preset\": quality}]\n",
    "        ))\n",
    "    )\n",
    "\n",
    "\n",
    "def NCD(x, y, strategy=None):\n",
    "    global compressed_length\n",
    "\n",
    "    lx = compressed_length[x]\n",
    "    ly = compressed_length[y]\n",
    "\n",
    "    if strategy == 'MINMAX':\n",
    "        return (min(compressed_length[x + y], compressed_length[y + x]) - max(lx, ly)) / max(lx, ly)\n",
    "    if strategy == 'FAST':\n",
    "        if lx > ly:\n",
    "            lx, ly = ly, lx\n",
    "        return (compressed_length[y + x] - ly) / lx\n",
    "\n",
    "    return (compressed_length[x + y] + compressed_length[y + x] - lx - ly) / (lx + ly)\n"
   ]
  },
  {
   "cell_type": "code",
   "execution_count": 2,
   "metadata": {
    "collapsed": true
   },
   "outputs": [],
   "source": [
    "rsol = re.compile(r'.*\\\\begin\\{solution\\}(.*)\\\\end\\{solution\\}.*', re.DOTALL)\n",
    "\n",
    "\n",
    "def get_solution_text(filename):\n",
    "    global rsol\n",
    "    with open(filename, 'r', encoding='utf-8') as txt:\n",
    "        solution_text = rsol.match(txt.read())\n",
    "        if solution_text:\n",
    "            return solution_text.group(1).strip().lower().replace(' ', '').encode()\n",
    "        else:\n",
    "            return None\n",
    "\n",
    "\n",
    "def traverse(dirname):\n",
    "    all_solutions = defaultdict(lambda: defaultdict(str))\n",
    "    rexp = re.compile(r'\\D*(\\d+)\\.tex')\n",
    "\n",
    "    for item in os.listdir(dirname):\n",
    "        if item.startswith('ds2017'):\n",
    "            _, _, student_surname, student_name = item.split()\n",
    "\n",
    "            for file in os.listdir(dirname + item):\n",
    "                if file.endswith('.tex'):\n",
    "                    x = rexp.match(file)\n",
    "                    if x:\n",
    "                        if not file.startswith('solution'):\n",
    "                            print(item[13:] + '/' + file)\n",
    "\n",
    "                        problem_id = int(x.group(1))\n",
    "                        if problem_id < 2:\n",
    "                            continue\n",
    "\n",
    "                        solution_text = get_solution_text(dirname + item + '\\\\' + file)\n",
    "                        if solution_text:\n",
    "                            all_solutions[problem_id][f'{student_surname} {student_name}'] = solution_text\n",
    "                        else:\n",
    "                            print('Failed to find solution in ' + item[9:] + '/' + file)\n",
    "    return all_solutions\n",
    "\n",
    "\n",
    "def traverse_archive(dirname, year=None):\n",
    "    old_solutions = defaultdict(lambda: defaultdict(str))\n",
    "    rexp = re.compile(r'\\D*(\\d+)\\.tex')\n",
    "\n",
    "    for item in os.listdir(dirname):\n",
    "        student_surname, student_name = item.split()\n",
    "\n",
    "        for file in os.listdir(dirname + item):\n",
    "            if file.endswith('.tex'):\n",
    "                x = rexp.match(file)\n",
    "                if x:\n",
    "                    problem_id = int(x.group(1))\n",
    "                    if problem_id < 2:\n",
    "                        continue\n",
    "\n",
    "                    solution_text = get_solution_text(dirname + item + '\\\\' + file)\n",
    "                    if solution_text:\n",
    "                        student_display = f'{student_surname} {student_name}'\n",
    "                        if year:\n",
    "                            student_display = f'{student_display} ({year})'\n",
    "                        old_solutions[problem_id][student_display] = solution_text\n",
    "                    else:\n",
    "                        print('Failed to find solution in ' + item + '/' + file)\n",
    "\n",
    "\n",
    "    return old_solutions"
   ]
  },
  {
   "cell_type": "code",
   "execution_count": 3,
   "metadata": {
    "collapsed": true
   },
   "outputs": [],
   "source": [
    "def find_plagiarism(threshold=0.5, quality=9, problem_ids=None, problem_ids_exclude=None, exclusion_threshold=0.0):\n",
    "    global compressed_length\n",
    "\n",
    "    all_solutions = traverse(r'C:\\Users\\dainiak\\Dropbox\\Apps\\ShareLaTeX\\\\')\n",
    "\n",
    "    old_solutions = defaultdict(lambda: defaultdict(str))\n",
    "    archives = [\n",
    "        traverse_archive(r'c:\\Users\\dainiak\\Documents\\ds_reviews\\dumps-2015\\\\', year=2015),\n",
    "        traverse_archive(r'c:\\Users\\dainiak\\Documents\\ds_reviews\\dumps-2016\\\\', year=2016)\n",
    "    ]\n",
    "    for archive in archives:\n",
    "        for problem_id in archive:\n",
    "            old_solutions[problem_id].update(archive[problem_id])\n",
    "\n",
    "    compressed_length = keydefaultdict(compressor(quality))\n",
    "\n",
    "    filtered_ids = set(all_solutions)\n",
    "    if problem_ids:\n",
    "        filtered_ids.intersection_update(problem_ids)\n",
    "    if problem_ids_exclude and not exclusion_threshold or exclusion_threshold <= 0:\n",
    "        filtered_ids.difference_update(problem_ids_exclude)\n",
    "\n",
    "    n_pairs_to_check = sum(\n",
    "        k * (k - 1) // 2\n",
    "        for k in map(\n",
    "            len,\n",
    "            (all_solutions[problem_id] for problem_id in filtered_ids)\n",
    "        )\n",
    "    )\n",
    "\n",
    "    #\n",
    "    # for problem_id in filtered_ids:\n",
    "    #     k = len(all_solutions[problem_id])\n",
    "    #     n_pairs_to_check += k * (k-1) // 2\n",
    "\n",
    "    similar_pairs = defaultdict(dict)\n",
    "\n",
    "    with tqdm(total=n_pairs_to_check) as progress_bar:\n",
    "        iteration = 0\n",
    "        for problem_id in filtered_ids:\n",
    "            if len(all_solutions[problem_id]) > 0:\n",
    "                for (i1, s1), (i2, s2) in combinations(all_solutions[problem_id].items(), 2):\n",
    "                    distance = NCD(s1, s2)\n",
    "                    iteration += 1\n",
    "                    progress_bar.update(1)\n",
    "                    if distance <= exclusion_threshold or (\n",
    "                                not problem_ids_exclude\n",
    "                                or problem_id not in problem_ids_exclude\n",
    "                            ) and distance <= threshold:\n",
    "                        similar_pairs[problem_id][(i1, i2)] = distance\n",
    "\n",
    "    n_pairs_to_check = sum(\n",
    "        len(old_solutions[problem_id]) * len(all_solutions[problem_id])\n",
    "        for problem_id in filtered_ids\n",
    "        if problem_id in old_solutions\n",
    "    )\n",
    "\n",
    "    with tqdm(total=n_pairs_to_check) as progress_bar:\n",
    "        for problem_id in filtered_ids:\n",
    "            if problem_id in old_solutions:\n",
    "                pairs_to_check = list(product(all_solutions[problem_id].items(), old_solutions[problem_id].items()))\n",
    "                if len(pairs_to_check) > 0:\n",
    "                    for (i1, s1), (i2, s2) in pairs_to_check:\n",
    "                        distance = NCD(s1, s2)\n",
    "                        progress_bar.update(1)\n",
    "                        if distance <= exclusion_threshold or (not problem_ids_exclude or problem_id not in problem_ids_exclude) and distance <= threshold:\n",
    "                            similar_pairs[problem_id][(i1, i2)] = distance\n",
    "\n",
    "    sys.stdout.flush()\n",
    "    no_duplicates = False\n",
    "    if len(similar_pairs) > 0:\n",
    "        for problem_id in similar_pairs:\n",
    "            print(f'\\nSimilar solutions for problem {problem_id}:')\n",
    "            print(', '.join(\n",
    "                f'[({pair[0]}, {pair[1]}), {round(similar_pairs[problem_id][pair], 2)}]'\n",
    "                for pair in similar_pairs[problem_id]\n",
    "            ))\n",
    "    if no_duplicates:\n",
    "        print('No duplicates')"
   ]
  },
  {
   "cell_type": "code",
   "execution_count": 4,
   "metadata": {},
   "outputs": [
    {
     "name": "stderr",
     "output_type": "stream",
     "text": [
      "\r  0%|                                                                                          | 0/462 [00:00<?, ?it/s]"
     ]
    },
    {
     "name": "stderr",
     "output_type": "stream",
     "text": [
      "\r  2%|█▏                                                                                | 7/462 [00:00<00:06, 65.38it/s]"
     ]
    },
    {
     "name": "stderr",
     "output_type": "stream",
     "text": [
      "\r  3%|██▋                                                                              | 15/462 [00:00<00:06, 69.07it/s]"
     ]
    },
    {
     "name": "stderr",
     "output_type": "stream",
     "text": [
      "\r  6%|████▌                                                                            | 26/462 [00:00<00:05, 76.52it/s]"
     ]
    },
    {
     "name": "stderr",
     "output_type": "stream",
     "text": [
      "\r  7%|█████▉                                                                           | 34/462 [00:00<00:05, 75.11it/s]"
     ]
    },
    {
     "name": "stderr",
     "output_type": "stream",
     "text": [
      "\r  9%|███████▏                                                                         | 41/462 [00:00<00:05, 73.02it/s]"
     ]
    },
    {
     "name": "stderr",
     "output_type": "stream",
     "text": [
      "\r 11%|████████▉                                                                        | 51/462 [00:00<00:05, 77.86it/s]"
     ]
    },
    {
     "name": "stderr",
     "output_type": "stream",
     "text": [
      "\r 13%|██████████▎                                                                      | 59/462 [00:00<00:05, 77.56it/s]"
     ]
    },
    {
     "name": "stderr",
     "output_type": "stream",
     "text": [
      "\r 15%|███████████▋                                                                     | 67/462 [00:00<00:05, 76.25it/s]"
     ]
    },
    {
     "name": "stderr",
     "output_type": "stream",
     "text": [
      "\r 16%|█████████████▏                                                                   | 75/462 [00:00<00:05, 74.51it/s]"
     ]
    },
    {
     "name": "stderr",
     "output_type": "stream",
     "text": [
      "\r 18%|██████████████▋                                                                  | 84/462 [00:01<00:04, 77.64it/s]"
     ]
    },
    {
     "name": "stderr",
     "output_type": "stream",
     "text": [
      "\r 21%|████████████████▋                                                                | 95/462 [00:01<00:04, 84.35it/s]"
     ]
    },
    {
     "name": "stderr",
     "output_type": "stream",
     "text": [
      "\r 23%|██████████████████                                                              | 104/462 [00:01<00:04, 78.83it/s]"
     ]
    },
    {
     "name": "stderr",
     "output_type": "stream",
     "text": [
      "\r 24%|███████████████████▌                                                            | 113/462 [00:01<00:04, 75.95it/s]"
     ]
    },
    {
     "name": "stderr",
     "output_type": "stream",
     "text": [
      "\r 26%|████████████████████▉                                                           | 121/462 [00:01<00:04, 70.67it/s]"
     ]
    },
    {
     "name": "stderr",
     "output_type": "stream",
     "text": [
      "\r 28%|██████████████████████▎                                                         | 129/462 [00:01<00:05, 60.57it/s]"
     ]
    },
    {
     "name": "stderr",
     "output_type": "stream",
     "text": [
      "\r 29%|███████████████████████▌                                                        | 136/462 [00:01<00:05, 59.41it/s]"
     ]
    },
    {
     "name": "stderr",
     "output_type": "stream",
     "text": [
      "\r 31%|████████████████████████▉                                                       | 144/462 [00:01<00:04, 63.83it/s]"
     ]
    },
    {
     "name": "stderr",
     "output_type": "stream",
     "text": [
      "\r 33%|██████████████████████████▋                                                     | 154/462 [00:02<00:04, 71.13it/s]"
     ]
    },
    {
     "name": "stderr",
     "output_type": "stream",
     "text": [
      "\r 35%|████████████████████████████▍                                                   | 164/462 [00:02<00:03, 77.68it/s]"
     ]
    },
    {
     "name": "stderr",
     "output_type": "stream",
     "text": [
      "\r 39%|██████████████████████████████▊                                                 | 178/462 [00:02<00:03, 89.30it/s]"
     ]
    },
    {
     "name": "stderr",
     "output_type": "stream",
     "text": [
      "\r 41%|████████████████████████████████▉                                               | 190/462 [00:02<00:02, 96.01it/s]"
     ]
    },
    {
     "name": "stderr",
     "output_type": "stream",
     "text": [
      "\r 44%|██████████████████████████████████▌                                            | 202/462 [00:02<00:02, 101.21it/s]"
     ]
    },
    {
     "name": "stderr",
     "output_type": "stream",
     "text": [
      "\r 47%|████████████████████████████████████▊                                          | 215/462 [00:02<00:02, 108.39it/s]"
     ]
    },
    {
     "name": "stderr",
     "output_type": "stream",
     "text": [
      "\r 49%|██████████████████████████████████████▉                                        | 228/462 [00:02<00:02, 112.58it/s]"
     ]
    },
    {
     "name": "stderr",
     "output_type": "stream",
     "text": [
      "\r 52%|█████████████████████████████████████████▏                                     | 241/462 [00:02<00:01, 116.17it/s]"
     ]
    },
    {
     "name": "stderr",
     "output_type": "stream",
     "text": [
      "\r 55%|███████████████████████████████████████████▍                                   | 254/462 [00:02<00:01, 118.18it/s]"
     ]
    },
    {
     "name": "stderr",
     "output_type": "stream",
     "text": [
      "\r 58%|█████████████████████████████████████████████▉                                 | 269/462 [00:03<00:01, 124.15it/s]"
     ]
    },
    {
     "name": "stderr",
     "output_type": "stream",
     "text": [
      "\r 61%|████████████████████████████████████████████████▍                              | 283/462 [00:03<00:01, 127.61it/s]"
     ]
    },
    {
     "name": "stderr",
     "output_type": "stream",
     "text": [
      "\r 65%|██████████████████████████████████████████████████▉                            | 298/462 [00:03<00:01, 131.45it/s]"
     ]
    },
    {
     "name": "stderr",
     "output_type": "stream",
     "text": [
      "\r 68%|█████████████████████████████████████████████████████▎                         | 312/462 [00:03<00:01, 132.93it/s]"
     ]
    },
    {
     "name": "stderr",
     "output_type": "stream",
     "text": [
      "\r 74%|██████████████████████████████████████████████████████████▍                    | 342/462 [00:03<00:00, 159.19it/s]"
     ]
    },
    {
     "name": "stderr",
     "output_type": "stream",
     "text": [
      "\r 78%|█████████████████████████████████████████████████████████████▋                 | 361/462 [00:03<00:00, 154.25it/s]"
     ]
    },
    {
     "name": "stderr",
     "output_type": "stream",
     "text": [
      "\r 82%|████████████████████████████████████████████████████████████████▊              | 379/462 [00:03<00:00, 135.78it/s]"
     ]
    },
    {
     "name": "stderr",
     "output_type": "stream",
     "text": [
      "\r 85%|███████████████████████████████████████████████████████████████████▌           | 395/462 [00:03<00:00, 116.17it/s]"
     ]
    },
    {
     "name": "stderr",
     "output_type": "stream",
     "text": [
      "\r 89%|█████████████████████████████████████████████████████████████████████▉         | 409/462 [00:04<00:00, 105.27it/s]"
     ]
    },
    {
     "name": "stderr",
     "output_type": "stream",
     "text": [
      "\r 91%|███████████████████████████████████████████████████████████████████████▉       | 421/462 [00:04<00:00, 100.74it/s]"
     ]
    },
    {
     "name": "stderr",
     "output_type": "stream",
     "text": [
      "\r 94%|██████████████████████████████████████████████████████████████████████████▉     | 433/462 [00:04<00:00, 93.66it/s]"
     ]
    },
    {
     "name": "stderr",
     "output_type": "stream",
     "text": [
      "\r 96%|████████████████████████████████████████████████████████████████████████████▉   | 444/462 [00:04<00:00, 83.02it/s]"
     ]
    },
    {
     "name": "stderr",
     "output_type": "stream",
     "text": [
      "\r 98%|██████████████████████████████████████████████████████████████████████████████▌ | 454/462 [00:04<00:00, 74.46it/s]"
     ]
    },
    {
     "name": "stderr",
     "output_type": "stream",
     "text": [
      "\r100%|████████████████████████████████████████████████████████████████████████████████| 462/462 [00:04<00:00, 95.99it/s]"
     ]
    },
    {
     "name": "stderr",
     "output_type": "stream",
     "text": [
      "\n"
     ]
    },
    {
     "name": "stderr",
     "output_type": "stream",
     "text": [
      "\r  0%|                                                                                          | 0/488 [00:00<?, ?it/s]"
     ]
    },
    {
     "name": "stderr",
     "output_type": "stream",
     "text": [
      "\r  2%|█▌                                                                                | 9/488 [00:00<00:05, 84.05it/s]"
     ]
    },
    {
     "name": "stderr",
     "output_type": "stream",
     "text": [
      "\r  4%|███▎                                                                             | 20/488 [00:00<00:05, 88.47it/s]"
     ]
    },
    {
     "name": "stderr",
     "output_type": "stream",
     "text": [
      "\r  6%|████▍                                                                            | 27/488 [00:00<00:05, 81.67it/s]"
     ]
    },
    {
     "name": "stderr",
     "output_type": "stream",
     "text": [
      "\r  7%|█████▋                                                                           | 34/488 [00:00<00:05, 76.49it/s]"
     ]
    },
    {
     "name": "stderr",
     "output_type": "stream",
     "text": [
      "\r  8%|██████▋                                                                          | 40/488 [00:00<00:06, 69.54it/s]"
     ]
    },
    {
     "name": "stderr",
     "output_type": "stream",
     "text": [
      "\r 10%|███████▊                                                                         | 47/488 [00:00<00:06, 69.45it/s]"
     ]
    },
    {
     "name": "stderr",
     "output_type": "stream",
     "text": [
      "\r 11%|████████▉                                                                        | 54/488 [00:00<00:06, 68.28it/s]"
     ]
    },
    {
     "name": "stderr",
     "output_type": "stream",
     "text": [
      "\r 13%|██████████▌                                                                      | 64/488 [00:00<00:05, 74.40it/s]"
     ]
    },
    {
     "name": "stderr",
     "output_type": "stream",
     "text": [
      "\r 15%|███████████▉                                                                     | 72/488 [00:00<00:06, 67.43it/s]"
     ]
    },
    {
     "name": "stderr",
     "output_type": "stream",
     "text": [
      "\r 16%|█████████████                                                                    | 79/488 [00:01<00:06, 68.17it/s]"
     ]
    },
    {
     "name": "stderr",
     "output_type": "stream",
     "text": [
      "\r 18%|██████████████▌                                                                  | 88/488 [00:01<00:05, 72.79it/s]"
     ]
    },
    {
     "name": "stderr",
     "output_type": "stream",
     "text": [
      "\r 20%|████████████████                                                                 | 97/488 [00:01<00:05, 77.10it/s]"
     ]
    },
    {
     "name": "stderr",
     "output_type": "stream",
     "text": [
      "\r 22%|█████████████████▌                                                              | 107/488 [00:01<00:04, 79.80it/s]"
     ]
    },
    {
     "name": "stderr",
     "output_type": "stream",
     "text": [
      "\r 24%|███████████████████                                                             | 116/488 [00:01<00:04, 79.74it/s]"
     ]
    },
    {
     "name": "stderr",
     "output_type": "stream",
     "text": [
      "\r 26%|████████████████████▍                                                           | 125/488 [00:01<00:04, 79.69it/s]"
     ]
    },
    {
     "name": "stderr",
     "output_type": "stream",
     "text": [
      "\r 27%|█████████████████████▉                                                          | 134/488 [00:01<00:04, 77.90it/s]"
     ]
    },
    {
     "name": "stderr",
     "output_type": "stream",
     "text": [
      "\r 29%|███████████████████████▎                                                        | 142/488 [00:01<00:04, 76.37it/s]"
     ]
    },
    {
     "name": "stderr",
     "output_type": "stream",
     "text": [
      "\r 31%|████████████████████████▌                                                       | 150/488 [00:01<00:04, 73.97it/s]"
     ]
    },
    {
     "name": "stderr",
     "output_type": "stream",
     "text": [
      "\r 32%|█████████████████████████▉                                                      | 158/488 [00:02<00:04, 67.69it/s]"
     ]
    },
    {
     "name": "stderr",
     "output_type": "stream",
     "text": [
      "\r 34%|███████████████████████████                                                     | 165/488 [00:02<00:05, 60.00it/s]"
     ]
    },
    {
     "name": "stderr",
     "output_type": "stream",
     "text": [
      "\r 35%|████████████████████████████▏                                                   | 172/488 [00:02<00:05, 56.80it/s]"
     ]
    },
    {
     "name": "stderr",
     "output_type": "stream",
     "text": [
      "\r 36%|█████████████████████████████▏                                                  | 178/488 [00:02<00:05, 55.01it/s]"
     ]
    },
    {
     "name": "stderr",
     "output_type": "stream",
     "text": [
      "\r 38%|██████████████████████████████▏                                                 | 184/488 [00:02<00:05, 56.33it/s]"
     ]
    },
    {
     "name": "stderr",
     "output_type": "stream",
     "text": [
      "\r 39%|███████████████████████████████▏                                                | 190/488 [00:02<00:05, 55.85it/s]"
     ]
    },
    {
     "name": "stderr",
     "output_type": "stream",
     "text": [
      "\r 40%|████████████████████████████████▏                                               | 196/488 [00:02<00:05, 55.44it/s]"
     ]
    },
    {
     "name": "stderr",
     "output_type": "stream",
     "text": [
      "\r 41%|█████████████████████████████████                                               | 202/488 [00:02<00:05, 56.16it/s]"
     ]
    },
    {
     "name": "stderr",
     "output_type": "stream",
     "text": [
      "\r 43%|██████████████████████████████████▎                                             | 209/488 [00:03<00:04, 59.54it/s]"
     ]
    },
    {
     "name": "stderr",
     "output_type": "stream",
     "text": [
      "\r 45%|███████████████████████████████████▋                                            | 218/488 [00:03<00:04, 65.39it/s]"
     ]
    },
    {
     "name": "stderr",
     "output_type": "stream",
     "text": [
      "\r 47%|█████████████████████████████████████▍                                          | 228/488 [00:03<00:03, 71.24it/s]"
     ]
    },
    {
     "name": "stderr",
     "output_type": "stream",
     "text": [
      "\r 49%|██████████████████████████████████████▊                                         | 237/488 [00:03<00:03, 74.38it/s]"
     ]
    },
    {
     "name": "stderr",
     "output_type": "stream",
     "text": [
      "\r 50%|████████████████████████████████████████▎                                       | 246/488 [00:03<00:03, 77.43it/s]"
     ]
    },
    {
     "name": "stderr",
     "output_type": "stream",
     "text": [
      "\r 52%|█████████████████████████████████████████▊                                      | 255/488 [00:03<00:02, 79.62it/s]"
     ]
    },
    {
     "name": "stderr",
     "output_type": "stream",
     "text": [
      "\r 54%|███████████████████████████████████████████▎                                    | 264/488 [00:03<00:02, 80.90it/s]"
     ]
    },
    {
     "name": "stderr",
     "output_type": "stream",
     "text": [
      "\r 56%|████████████████████████████████████████████▊                                   | 273/488 [00:03<00:02, 72.43it/s]"
     ]
    },
    {
     "name": "stderr",
     "output_type": "stream",
     "text": [
      "\r 58%|██████████████████████████████████████████████                                  | 281/488 [00:03<00:02, 73.91it/s]"
     ]
    },
    {
     "name": "stderr",
     "output_type": "stream",
     "text": [
      "\r 59%|███████████████████████████████████████████████▍                                | 289/488 [00:04<00:02, 75.41it/s]"
     ]
    },
    {
     "name": "stderr",
     "output_type": "stream",
     "text": [
      "\r 61%|████████████████████████████████████████████████▊                               | 298/488 [00:04<00:02, 78.63it/s]"
     ]
    },
    {
     "name": "stderr",
     "output_type": "stream",
     "text": [
      "\r 63%|██████████████████████████████████████████████████▎                             | 307/488 [00:04<00:02, 80.29it/s]"
     ]
    },
    {
     "name": "stderr",
     "output_type": "stream",
     "text": [
      "\r 65%|███████████████████████████████████████████████████▊                            | 316/488 [00:04<00:02, 76.40it/s]"
     ]
    },
    {
     "name": "stderr",
     "output_type": "stream",
     "text": [
      "\r 67%|█████████████████████████████████████████████████████▎                          | 325/488 [00:04<00:02, 79.91it/s]"
     ]
    },
    {
     "name": "stderr",
     "output_type": "stream",
     "text": [
      "\r 68%|██████████████████████████████████████████████████████▊                         | 334/488 [00:04<00:02, 70.85it/s]"
     ]
    },
    {
     "name": "stderr",
     "output_type": "stream",
     "text": [
      "\r 70%|████████████████████████████████████████████████████████                        | 342/488 [00:04<00:02, 65.43it/s]"
     ]
    },
    {
     "name": "stderr",
     "output_type": "stream",
     "text": [
      "\r 72%|█████████████████████████████████████████████████████████▏                      | 349/488 [00:04<00:02, 62.52it/s]"
     ]
    },
    {
     "name": "stderr",
     "output_type": "stream",
     "text": [
      "\r 73%|██████████████████████████████████████████████████████████▎                     | 356/488 [00:05<00:02, 63.78it/s]"
     ]
    },
    {
     "name": "stderr",
     "output_type": "stream",
     "text": [
      "\r 75%|███████████████████████████████████████████████████████████▊                    | 365/488 [00:05<00:01, 69.72it/s]"
     ]
    },
    {
     "name": "stderr",
     "output_type": "stream",
     "text": [
      "\r 77%|█████████████████████████████████████████████████████████████▎                  | 374/488 [00:05<00:01, 74.30it/s]"
     ]
    },
    {
     "name": "stderr",
     "output_type": "stream",
     "text": [
      "\r 78%|██████████████████████████████████████████████████████████████▊                 | 383/488 [00:05<00:01, 77.17it/s]"
     ]
    },
    {
     "name": "stderr",
     "output_type": "stream",
     "text": [
      "\r 80%|████████████████████████████████████████████████████████████████▎               | 392/488 [00:05<00:01, 79.75it/s]"
     ]
    },
    {
     "name": "stderr",
     "output_type": "stream",
     "text": [
      "\r 82%|█████████████████████████████████████████████████████████████████▋              | 401/488 [00:05<00:01, 79.70it/s]"
     ]
    },
    {
     "name": "stderr",
     "output_type": "stream",
     "text": [
      "\r 84%|███████████████████████████████████████████████████████████████████▏            | 410/488 [00:05<00:00, 80.96it/s]"
     ]
    },
    {
     "name": "stderr",
     "output_type": "stream",
     "text": [
      "\r 86%|█████████████████████████████████████████████████████████████████████           | 421/488 [00:05<00:00, 86.45it/s]"
     ]
    },
    {
     "name": "stderr",
     "output_type": "stream",
     "text": [
      "\r 88%|██████████████████████████████████████████████████████████████████████▋         | 431/488 [00:05<00:00, 89.86it/s]"
     ]
    },
    {
     "name": "stderr",
     "output_type": "stream",
     "text": [
      "\r 90%|████████████████████████████████████████████████████████████████████████▎       | 441/488 [00:05<00:00, 91.77it/s]"
     ]
    },
    {
     "name": "stderr",
     "output_type": "stream",
     "text": [
      "\r 92%|█████████████████████████████████████████████████████████████████████████▉      | 451/488 [00:06<00:00, 92.89it/s]"
     ]
    },
    {
     "name": "stderr",
     "output_type": "stream",
     "text": [
      "\r 94%|███████████████████████████████████████████████████████████████████████████▌    | 461/488 [00:06<00:00, 91.51it/s]"
     ]
    },
    {
     "name": "stderr",
     "output_type": "stream",
     "text": [
      "\r 97%|█████████████████████████████████████████████████████████████████████████████▏  | 471/488 [00:06<00:00, 84.37it/s]"
     ]
    },
    {
     "name": "stderr",
     "output_type": "stream",
     "text": [
      "\r 98%|██████████████████████████████████████████████████████████████████████████████▋ | 480/488 [00:06<00:00, 80.11it/s]"
     ]
    },
    {
     "name": "stderr",
     "output_type": "stream",
     "text": [
      "\r100%|████████████████████████████████████████████████████████████████████████████████| 488/488 [00:06<00:00, 74.32it/s]"
     ]
    },
    {
     "name": "stderr",
     "output_type": "stream",
     "text": [
      "\n"
     ]
    },
    {
     "name": "stdout",
     "output_type": "stream",
     "text": [
      "\nSimilar solutions for problem 156:"
     ]
    },
    {
     "name": "stdout",
     "output_type": "stream",
     "text": [
      "\n"
     ]
    },
    {
     "name": "stdout",
     "output_type": "stream",
     "text": [
      "[(Сикалов Никита, Сунгатуллин Руслан), 0.18]"
     ]
    },
    {
     "name": "stdout",
     "output_type": "stream",
     "text": [
      "\n"
     ]
    },
    {
     "name": "stdout",
     "output_type": "stream",
     "text": [
      "\nSimilar solutions for problem 314:"
     ]
    },
    {
     "name": "stdout",
     "output_type": "stream",
     "text": [
      "\n"
     ]
    },
    {
     "name": "stdout",
     "output_type": "stream",
     "text": [
      "[(Ахметзянов Талгат, Кревский Михаил), 0.15], [(Ахметзянов Талгат, Никулов Сергей), 0.15], [(Ахметзянов Талгат, Пономаренко Николай), 0.15], [(Ахметзянов Талгат, Якупова Аделина), 0.15], [(Кревский Михаил, Никулов Сергей), 0.02], [(Кревский Михаил, Пономаренко Николай), 0.02], [(Кревский Михаил, Якупова Аделина), 0.02], [(Никулов Сергей, Пономаренко Николай), 0.02], [(Никулов Сергей, Якупова Аделина), 0.02], [(Пономаренко Николай, Якупова Аделина), 0.02]"
     ]
    },
    {
     "name": "stdout",
     "output_type": "stream",
     "text": [
      "\n"
     ]
    },
    {
     "name": "stdout",
     "output_type": "stream",
     "text": [
      "\nSimilar solutions for problem 37:"
     ]
    },
    {
     "name": "stdout",
     "output_type": "stream",
     "text": [
      "\n"
     ]
    },
    {
     "name": "stdout",
     "output_type": "stream",
     "text": [
      "[(Морковкин Василий, Пименов Павел (2016)), 0.49]"
     ]
    },
    {
     "name": "stdout",
     "output_type": "stream",
     "text": [
      "\n"
     ]
    },
    {
     "name": "stdout",
     "output_type": "stream",
     "text": [
      "\nSimilar solutions for problem 84:"
     ]
    },
    {
     "name": "stdout",
     "output_type": "stream",
     "text": [
      "\n"
     ]
    }
   ],
   "source": [
    "find_plagiarism(\n",
    "    threshold=0.5,\n",
    "    quality=4,\n",
    "    problem_ids_exclude=[1, 128, 156, 315, 314],\n",
    "    exclusion_threshold=0.2\n",
    ")"
   ]
  },
  {
   "cell_type": "code",
   "execution_count": 5,
   "metadata": {
    "collapsed": true
   },
   "outputs": [],
   "source": []
  }
 ],
 "metadata": {
  "kernelspec": {
   "display_name": "Python 3",
   "language": "python",
   "name": "python3"
  },
  "language_info": {
   "codemirror_mode": {
    "name": "ipython",
    "version": 3
   },
   "file_extension": ".py",
   "mimetype": "text/x-python",
   "name": "python",
   "nbconvert_exporter": "python",
   "pygments_lexer": "ipython3",
   "version": "3.6.2"
  }
 },
 "nbformat": 4,
 "nbformat_minor": 1
}
