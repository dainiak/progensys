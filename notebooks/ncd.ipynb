{
 "cells": [
  {
   "cell_type": "code",
   "execution_count": 2,
   "metadata": {
    "collapsed": true
   },
   "outputs": [],
   "source": [
    "import lzma\n",
    "from itertools import combinations, product\n",
    "from collections import defaultdict\n",
    "from tqdm import tqdm\n",
    "import re\n",
    "import os\n",
    "import sys\n",
    "\n",
    "\n",
    "class keydefaultdict(defaultdict):\n",
    "    def __missing__(self, key):\n",
    "        if self.default_factory is None:\n",
    "            raise KeyError(key)\n",
    "        else:\n",
    "            ret = self[key] = self.default_factory(key)\n",
    "            return ret\n",
    "\n",
    "\n",
    "compressed_length = keydefaultdict()\n",
    "\n",
    "\n",
    "def compressor(quality):\n",
    "    return (\n",
    "        lambda s: len(lzma.compress(\n",
    "            s,\n",
    "            format=lzma.FORMAT_RAW,\n",
    "            filters=[{\"id\": lzma.FILTER_LZMA2, \"preset\": quality}]\n",
    "        ))\n",
    "    )\n",
    "\n",
    "\n",
    "def NCD(x, y, strategy=None):\n",
    "    global compressed_length\n",
    "\n",
    "    lx = compressed_length[x]\n",
    "    ly = compressed_length[y]\n",
    "\n",
    "    if strategy == 'MINMAX':\n",
    "        return (min(compressed_length[x + y], compressed_length[y + x]) - max(lx, ly)) / max(lx, ly)\n",
    "    if strategy == 'FAST':\n",
    "        if lx > ly:\n",
    "            lx, ly = ly, lx\n",
    "        return (compressed_length[y + x] - ly) / lx\n",
    "\n",
    "    return (compressed_length[x + y] + compressed_length[y + x] - lx - ly) / (lx + ly)"
   ]
  },
  {
   "cell_type": "code",
   "execution_count": 4,
   "metadata": {},
   "outputs": [],
   "source": [
    "rsol = re.compile(r'.*\\\\begin\\{solution\\}(.*)\\\\end\\{solution\\}.*', re.DOTALL)\n",
    "\n",
    "\n",
    "def get_solution_text(filename):\n",
    "    global rsol\n",
    "    with open(filename, 'r', encoding='utf-8') as txt:\n",
    "        solution_text = rsol.match(txt.read())\n",
    "        if solution_text:\n",
    "            return solution_text.group(1).strip().lower().replace(' ', '').encode()\n",
    "        else:\n",
    "            return None\n",
    "\n",
    "\n",
    "def traverse(dirname):\n",
    "    all_solutions = defaultdict(lambda: defaultdict(str))\n",
    "    rexp = re.compile(r'\\D*(\\d+)\\.tex')\n",
    "\n",
    "    for item in os.listdir(dirname):\n",
    "        if item.startswith('ds2017'):\n",
    "            _, _, student_surname, student_name = item.split()\n",
    "\n",
    "            for file in os.listdir(dirname + item):\n",
    "                if file.endswith('.tex'):\n",
    "                    x = rexp.match(file)\n",
    "                    if x:\n",
    "                        if not file.startswith('solution'):\n",
    "                            print(item[13:] + '/' + file)\n",
    "\n",
    "                        problem_id = int(x.group(1))\n",
    "                        if problem_id < 2:\n",
    "                            continue\n",
    "\n",
    "                        solution_text = get_solution_text(dirname + item + '\\\\' + file)\n",
    "                        if solution_text:\n",
    "                            all_solutions[problem_id][f'{student_surname} {student_name}'] = solution_text\n",
    "                        else:\n",
    "                            print('Failed to find solution in ' + item[9:] + '/' + file)\n",
    "    return all_solutions\n",
    "\n",
    "\n",
    "def traverse_archive(dirname, year=None):\n",
    "    old_solutions = defaultdict(lambda: defaultdict(str))\n",
    "    rexp = re.compile(r'\\D*(\\d+)\\.tex')\n",
    "\n",
    "    for item in os.listdir(dirname):\n",
    "        student_surname, student_name = item.split()\n",
    "\n",
    "        for file in os.listdir(dirname + item):\n",
    "            if file.endswith('.tex'):\n",
    "                x = rexp.match(file)\n",
    "                if x:\n",
    "                    problem_id = int(x.group(1))\n",
    "                    if problem_id < 2:\n",
    "                        continue\n",
    "\n",
    "                    solution_text = get_solution_text(dirname + item + '\\\\' + file)\n",
    "                    if solution_text:\n",
    "                        student_display = f'{student_surname} {student_name}'\n",
    "                        if year:\n",
    "                            student_display = f'{student_display} ({year})'\n",
    "                        old_solutions[problem_id][student_display] = solution_text\n",
    "                    else:\n",
    "                        print('Failed to find solution in ' + item + '/' + file)\n",
    "\n",
    "    return old_solutions"
   ]
  },
  {
   "cell_type": "code",
   "execution_count": 5,
   "metadata": {},
   "outputs": [],
   "source": [
    "def find_plagiarism(threshold=0.5, quality=9, problem_ids=None, problem_ids_exclude=None, exclusion_threshold=0.0):\n",
    "    global compressed_length\n",
    "\n",
    "    all_solutions = traverse(r'C:\\Users\\dainiak\\Dropbox\\Apps\\ShareLaTeX\\\\')\n",
    "\n",
    "    old_solutions = defaultdict(lambda: defaultdict(str))\n",
    "    archives = [\n",
    "        traverse_archive(r'c:\\Users\\dainiak\\Documents\\ds_reviews\\dumps-2015\\\\', year=2015),\n",
    "        traverse_archive(r'c:\\Users\\dainiak\\Documents\\ds_reviews\\dumps-2016\\\\', year=2016)\n",
    "    ]\n",
    "    for archive in archives:\n",
    "        for problem_id in archive:\n",
    "            old_solutions[problem_id].update(archive[problem_id])\n",
    "\n",
    "    compressed_length = keydefaultdict(compressor(quality))\n",
    "\n",
    "    filtered_ids = set(all_solutions)\n",
    "    if problem_ids:\n",
    "        filtered_ids.intersection_update(problem_ids)\n",
    "    if problem_ids_exclude and not exclusion_threshold or exclusion_threshold <= 0:\n",
    "        filtered_ids.difference_update(problem_ids_exclude)\n",
    "\n",
    "    n_pairs_to_check = sum(\n",
    "        k * (k - 1) // 2\n",
    "        for k in map(\n",
    "            len,\n",
    "            (all_solutions[problem_id] for problem_id in filtered_ids)\n",
    "        )\n",
    "    )\n",
    "\n",
    "    #\n",
    "    # for problem_id in filtered_ids:\n",
    "    #     k = len(all_solutions[problem_id])\n",
    "    #     n_pairs_to_check += k * (k-1) // 2\n",
    "\n",
    "    similar_pairs = defaultdict(dict)\n",
    "\n",
    "    with tqdm(total=n_pairs_to_check) as progress_bar:\n",
    "        iteration = 0\n",
    "        for problem_id in filtered_ids:\n",
    "            if len(all_solutions[problem_id]) > 0:\n",
    "                for (i1, s1), (i2, s2) in combinations(all_solutions[problem_id].items(), 2):\n",
    "                    distance = NCD(s1, s2)\n",
    "                    iteration += 1\n",
    "                    progress_bar.update(1)\n",
    "                    if distance <= exclusion_threshold or (\n",
    "                                not problem_ids_exclude\n",
    "                                or problem_id not in problem_ids_exclude\n",
    "                            ) and distance <= threshold:\n",
    "                        similar_pairs[problem_id][(i1, i2)] = distance\n",
    "\n",
    "    n_pairs_to_check = sum(\n",
    "        len(old_solutions[problem_id]) * len(all_solutions[problem_id])\n",
    "        for problem_id in filtered_ids\n",
    "        if problem_id in old_solutions\n",
    "    )\n",
    "\n",
    "    with tqdm(total=n_pairs_to_check) as progress_bar:\n",
    "        for problem_id in filtered_ids:\n",
    "            if problem_id in old_solutions:\n",
    "                pairs_to_check = list(product(all_solutions[problem_id].items(), old_solutions[problem_id].items()))\n",
    "                if len(pairs_to_check) > 0:\n",
    "                    for (i1, s1), (i2, s2) in pairs_to_check:\n",
    "                        distance = NCD(s1, s2)\n",
    "                        progress_bar.update(1)\n",
    "                        if distance <= exclusion_threshold or (not problem_ids_exclude or problem_id not in problem_ids_exclude) and distance <= threshold:\n",
    "                            similar_pairs[problem_id][(i1, i2)] = distance\n",
    "\n",
    "    sys.stdout.flush()\n",
    "    no_duplicates = False\n",
    "    if len(similar_pairs) > 0:\n",
    "        for problem_id in similar_pairs:\n",
    "            print(f'\\nSimilar solutions for problem {problem_id}:')\n",
    "            print(', '.join(\n",
    "                f'[({pair[0]}, {pair[1]}), {round(similar_pairs[problem_id][pair], 2)}]'\n",
    "                for pair in similar_pairs[problem_id]\n",
    "            ))\n",
    "    if no_duplicates:\n",
    "        print('No duplicates')"
   ]
  },
  {
   "cell_type": "code",
   "execution_count": 9,
   "metadata": {},
   "outputs": [
    {
     "name": "stdout",
     "output_type": "stream",
     "text": [
      "Failed to find solution in Глушенков Иван/solution109.tex"
     ]
    },
    {
     "name": "stdout",
     "output_type": "stream",
     "text": [
      "\n"
     ]
    },
    {
     "name": "stdout",
     "output_type": "stream",
     "text": [
      "Failed to find solution in Глушенков Иван/solution156.tex"
     ]
    },
    {
     "name": "stdout",
     "output_type": "stream",
     "text": [
      "\n"
     ]
    },
    {
     "name": "stdout",
     "output_type": "stream",
     "text": [
      "Failed to find solution in Дахова Елизавета/solution314.tex"
     ]
    },
    {
     "name": "stdout",
     "output_type": "stream",
     "text": [
      "\n"
     ]
    },
    {
     "name": "stderr",
     "output_type": "stream",
     "text": [
      "\r  0%|                                                                                          | 0/282 [00:00<?, ?it/s]"
     ]
    },
    {
     "name": "stderr",
     "output_type": "stream",
     "text": [
      "\r  2%|█▋                                                                                | 6/282 [00:00<00:04, 57.10it/s]"
     ]
    },
    {
     "name": "stderr",
     "output_type": "stream",
     "text": [
      "\r  6%|████▌                                                                            | 16/282 [00:00<00:04, 64.63it/s]"
     ]
    },
    {
     "name": "stderr",
     "output_type": "stream",
     "text": [
      "\r  9%|██████▉                                                                          | 24/282 [00:00<00:03, 68.22it/s]"
     ]
    },
    {
     "name": "stderr",
     "output_type": "stream",
     "text": [
      "\r 12%|█████████▊                                                                       | 34/282 [00:00<00:03, 72.28it/s]"
     ]
    },
    {
     "name": "stderr",
     "output_type": "stream",
     "text": [
      "\r 15%|████████████                                                                     | 42/282 [00:00<00:03, 73.90it/s]"
     ]
    },
    {
     "name": "stderr",
     "output_type": "stream",
     "text": [
      "\r 17%|██████████████                                                                   | 49/282 [00:00<00:03, 69.11it/s]"
     ]
    },
    {
     "name": "stderr",
     "output_type": "stream",
     "text": [
      "\r 21%|████████████████▋                                                                | 58/282 [00:00<00:03, 73.00it/s]"
     ]
    },
    {
     "name": "stderr",
     "output_type": "stream",
     "text": [
      "\r 24%|███████████████████▊                                                             | 69/282 [00:00<00:02, 79.94it/s]"
     ]
    },
    {
     "name": "stderr",
     "output_type": "stream",
     "text": [
      "\r 29%|███████████████████████▊                                                         | 83/282 [00:00<00:02, 90.19it/s]"
     ]
    },
    {
     "name": "stderr",
     "output_type": "stream",
     "text": [
      "\r 34%|███████████████████████████▌                                                     | 96/282 [00:01<00:01, 97.84it/s]"
     ]
    },
    {
     "name": "stderr",
     "output_type": "stream",
     "text": [
      "\r 39%|███████████████████████████████                                                | 111/282 [00:01<00:01, 108.27it/s]"
     ]
    },
    {
     "name": "stderr",
     "output_type": "stream",
     "text": [
      "\r 44%|███████████████████████████████████                                            | 125/282 [00:01<00:01, 113.60it/s]"
     ]
    },
    {
     "name": "stderr",
     "output_type": "stream",
     "text": [
      "\r 49%|██████████████████████████████████████▋                                        | 138/282 [00:01<00:01, 116.77it/s]"
     ]
    },
    {
     "name": "stderr",
     "output_type": "stream",
     "text": [
      "\r 55%|███████████████████████████████████████████▍                                   | 155/282 [00:01<00:00, 127.19it/s]"
     ]
    },
    {
     "name": "stderr",
     "output_type": "stream",
     "text": [
      "\r 60%|███████████████████████████████████████████████▌                               | 170/282 [00:01<00:00, 133.24it/s]"
     ]
    },
    {
     "name": "stderr",
     "output_type": "stream",
     "text": [
      "\r 67%|████████████████████████████████████████████████████▋                          | 188/282 [00:01<00:00, 143.44it/s]"
     ]
    },
    {
     "name": "stderr",
     "output_type": "stream",
     "text": [
      "\r 75%|███████████████████████████████████████████████████████████▍                   | 212/282 [00:01<00:00, 161.78it/s]"
     ]
    },
    {
     "name": "stderr",
     "output_type": "stream",
     "text": [
      "\r 83%|█████████████████████████████████████████████████████████████████▌             | 234/282 [00:01<00:00, 174.03it/s]"
     ]
    },
    {
     "name": "stderr",
     "output_type": "stream",
     "text": [
      "\r 90%|██████████████████████████████████████████████████████████████████████▉        | 253/282 [00:02<00:00, 172.55it/s]"
     ]
    },
    {
     "name": "stderr",
     "output_type": "stream",
     "text": [
      "\r 96%|████████████████████████████████████████████████████████████████████████████▏  | 272/282 [00:02<00:00, 135.04it/s]"
     ]
    },
    {
     "name": "stderr",
     "output_type": "stream",
     "text": [
      "\r100%|███████████████████████████████████████████████████████████████████████████████| 282/282 [00:02<00:00, 121.42it/s]"
     ]
    },
    {
     "name": "stderr",
     "output_type": "stream",
     "text": [
      "\n"
     ]
    },
    {
     "name": "stderr",
     "output_type": "stream",
     "text": [
      "\r  0%|                                                                                          | 0/126 [00:00<?, ?it/s]"
     ]
    },
    {
     "name": "stderr",
     "output_type": "stream",
     "text": [
      "\r  6%|█████▏                                                                            | 8/126 [00:00<00:01, 75.00it/s]"
     ]
    },
    {
     "name": "stderr",
     "output_type": "stream",
     "text": [
      "\r 15%|████████████▏                                                                    | 19/126 [00:00<00:01, 82.25it/s]"
     ]
    },
    {
     "name": "stderr",
     "output_type": "stream",
     "text": [
      "\r 23%|██████████████████▋                                                              | 29/126 [00:00<00:01, 86.18it/s]"
     ]
    },
    {
     "name": "stderr",
     "output_type": "stream",
     "text": [
      "\r 29%|███████████████████████▏                                                         | 36/126 [00:00<00:01, 77.88it/s]"
     ]
    },
    {
     "name": "stderr",
     "output_type": "stream",
     "text": [
      "\r 34%|███████████████████████████▋                                                     | 43/126 [00:00<00:01, 74.36it/s]"
     ]
    },
    {
     "name": "stderr",
     "output_type": "stream",
     "text": [
      "\r 40%|████████████████████████████████▊                                                | 51/126 [00:00<00:01, 74.05it/s]"
     ]
    },
    {
     "name": "stderr",
     "output_type": "stream",
     "text": [
      "\r 47%|█████████████████████████████████████▉                                           | 59/126 [00:00<00:00, 75.08it/s]"
     ]
    },
    {
     "name": "stderr",
     "output_type": "stream",
     "text": [
      "\r 56%|█████████████████████████████████████████████                                    | 70/126 [00:00<00:00, 81.68it/s]"
     ]
    },
    {
     "name": "stderr",
     "output_type": "stream",
     "text": [
      "\r 63%|██████████████████████████████████████████████████▊                              | 79/126 [00:00<00:00, 76.68it/s]"
     ]
    },
    {
     "name": "stderr",
     "output_type": "stream",
     "text": [
      "\r 69%|███████████████████████████████████████████████████████▉                         | 87/126 [00:01<00:00, 60.12it/s]"
     ]
    },
    {
     "name": "stderr",
     "output_type": "stream",
     "text": [
      "\r 75%|████████████████████████████████████████████████████████████▍                    | 94/126 [00:01<00:00, 59.71it/s]"
     ]
    },
    {
     "name": "stderr",
     "output_type": "stream",
     "text": [
      "\r 83%|██████████████████████████████████████████████████████████████████▋             | 105/126 [00:01<00:00, 68.62it/s]"
     ]
    },
    {
     "name": "stderr",
     "output_type": "stream",
     "text": [
      "\r 91%|█████████████████████████████████████████████████████████████████████████       | 115/126 [00:01<00:00, 74.02it/s]"
     ]
    },
    {
     "name": "stderr",
     "output_type": "stream",
     "text": [
      "\r 98%|██████████████████████████████████████████████████████████████████████████████▋ | 124/126 [00:01<00:00, 71.46it/s]"
     ]
    },
    {
     "name": "stderr",
     "output_type": "stream",
     "text": [
      "\r100%|████████████████████████████████████████████████████████████████████████████████| 126/126 [00:01<00:00, 73.94it/s]"
     ]
    },
    {
     "name": "stderr",
     "output_type": "stream",
     "text": [
      "\n"
     ]
    },
    {
     "name": "stdout",
     "output_type": "stream",
     "text": [
      "\nSimilar solutions for problem 314:"
     ]
    },
    {
     "name": "stdout",
     "output_type": "stream",
     "text": [
      "\n"
     ]
    },
    {
     "name": "stdout",
     "output_type": "stream",
     "text": [
      "[(Ахметзянов Талгат, Кревский Михаил), 0.15], [(Ахметзянов Талгат, Никулов Сергей), 0.15], [(Ахметзянов Талгат, Пономаренко Николай), 0.15], [(Ахметзянов Талгат, Якупова Аделина), 0.15], [(Кревский Михаил, Никулов Сергей), 0.02], [(Кревский Михаил, Пономаренко Николай), 0.02], [(Кревский Михаил, Якупова Аделина), 0.02], [(Никулов Сергей, Пономаренко Николай), 0.02], [(Никулов Сергей, Якупова Аделина), 0.02], [(Пономаренко Николай, Якупова Аделина), 0.02]"
     ]
    },
    {
     "name": "stdout",
     "output_type": "stream",
     "text": [
      "\n"
     ]
    }
   ],
   "source": [
    "find_plagiarism(\n",
    "    threshold=0.5,\n",
    "    quality=4,\n",
    "    problem_ids_exclude=[1, 128, 156, 315, 314],\n",
    "    exclusion_threshold=0.2\n",
    ")"
   ]
  },
  {
   "cell_type": "code",
   "execution_count": null,
   "metadata": {},
   "outputs": [],
   "source": []
  }
 ],
 "metadata": {
  "kernelspec": {
   "display_name": "Python 2",
   "language": "python",
   "name": "python2"
  },
  "language_info": {
   "codemirror_mode": {
    "name": "ipython",
    "version": 2
   },
   "file_extension": ".py",
   "mimetype": "text/x-python",
   "name": "python",
   "nbconvert_exporter": "python",
   "pygments_lexer": "ipython2",
   "version": "2.7.6"
  }
 },
 "nbformat": 4,
 "nbformat_minor": 0
}
