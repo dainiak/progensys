{
 "cells": [
  {
   "cell_type": "code",
   "execution_count": 1,
   "metadata": {
    "collapsed": true
   },
   "outputs": [],
   "source": [
    "import lzma\n",
    "from itertools import combinations, product\n",
    "from collections import defaultdict\n",
    "from tqdm import tqdm\n",
    "import re\n",
    "import os\n",
    "import sys\n",
    "\n",
    "\n",
    "class keydefaultdict(defaultdict):\n",
    "    def __missing__(self, key):\n",
    "        if self.default_factory is None:\n",
    "            raise KeyError(key)\n",
    "        else:\n",
    "            ret = self[key] = self.default_factory(key)\n",
    "            return ret\n",
    "\n",
    "\n",
    "compressed_length = keydefaultdict()\n",
    "\n",
    "\n",
    "def compressor(quality):\n",
    "    return (\n",
    "        lambda s: len(lzma.compress(\n",
    "            s,\n",
    "            format=lzma.FORMAT_RAW,\n",
    "            filters=[{\"id\": lzma.FILTER_LZMA2, \"preset\": quality}]\n",
    "        ))\n",
    "    )\n",
    "\n",
    "\n",
    "def NCD(x, y, strategy=None):\n",
    "    global compressed_length\n",
    "\n",
    "    lx = compressed_length[x]\n",
    "    ly = compressed_length[y]\n",
    "\n",
    "    if strategy == 'MINMAX':\n",
    "        return (min(compressed_length[x + y], compressed_length[y + x]) - max(lx, ly)) / max(lx, ly)\n",
    "    if strategy == 'FAST':\n",
    "        if lx > ly:\n",
    "            lx, ly = ly, lx\n",
    "        return (compressed_length[y + x] - ly) / lx\n",
    "\n",
    "    return (compressed_length[x + y] + compressed_length[y + x] - lx - ly) / (lx + ly)\n"
   ]
  },
  {
   "cell_type": "code",
   "execution_count": 2,
   "metadata": {
    "collapsed": true
   },
   "outputs": [],
   "source": [
    "rsol = re.compile(r'.*\\\\begin\\{solution\\}(.*)\\\\end\\{solution\\}.*', re.DOTALL)\n",
    "\n",
    "\n",
    "def get_solution_text(filename):\n",
    "    global rsol\n",
    "    with open(filename, 'r', encoding='utf-8') as txt:\n",
    "        solution_text = rsol.match(txt.read())\n",
    "        if solution_text:\n",
    "            return solution_text.group(1).strip().lower().replace(' ', '').encode()\n",
    "        else:\n",
    "            return None\n",
    "\n",
    "\n",
    "def traverse(dirname):\n",
    "    all_solutions = defaultdict(lambda: defaultdict(str))\n",
    "    rexp = re.compile(r'\\D*(\\d+)\\.tex')\n",
    "\n",
    "    for item in os.listdir(dirname):\n",
    "        if item.startswith('ds2017'):\n",
    "            _, _, student_surname, student_name = item.split()\n",
    "\n",
    "            for file in os.listdir(dirname + item):\n",
    "                if file.endswith('.tex'):\n",
    "                    x = rexp.match(file)\n",
    "                    if x:\n",
    "                        if not file.startswith('solution'):\n",
    "                            print(item[13:] + '/' + file)\n",
    "\n",
    "                        problem_id = int(x.group(1))\n",
    "                        if problem_id < 2:\n",
    "                            continue\n",
    "\n",
    "                        solution_text = get_solution_text(dirname + item + '\\\\' + file)\n",
    "                        if solution_text:\n",
    "                            all_solutions[problem_id][f'{student_surname} {student_name}'] = solution_text\n",
    "                        else:\n",
    "                            print('Failed to find solution in ' + item[9:] + '/' + file)\n",
    "    return all_solutions\n",
    "\n",
    "\n",
    "def traverse_archive(dirname, year=None):\n",
    "    old_solutions = defaultdict(lambda: defaultdict(str))\n",
    "    rexp = re.compile(r'\\D*(\\d+)\\.tex')\n",
    "\n",
    "    for item in os.listdir(dirname):\n",
    "        student_surname, student_name = item.split()\n",
    "\n",
    "        for file in os.listdir(dirname + item):\n",
    "            if file.endswith('.tex'):\n",
    "                x = rexp.match(file)\n",
    "                if x:\n",
    "                    problem_id = int(x.group(1))\n",
    "                    if problem_id < 2:\n",
    "                        continue\n",
    "\n",
    "                    solution_text = get_solution_text(dirname + item + '\\\\' + file)\n",
    "                    if solution_text:\n",
    "                        student_display = f'{student_surname} {student_name}'\n",
    "                        if year:\n",
    "                            student_display = f'{student_display} ({year})'\n",
    "                        old_solutions[problem_id][student_display] = solution_text\n",
    "                    else:\n",
    "                        print('Failed to find solution in ' + item + '/' + file)\n",
    "\n",
    "\n",
    "    return old_solutions"
   ]
  },
  {
   "cell_type": "code",
   "execution_count": 3,
   "metadata": {
    "collapsed": true
   },
   "outputs": [],
   "source": [
    "def find_plagiarism(threshold=0.5, quality=9, problem_ids=None, problem_ids_exclude=None, exclusion_threshold=0.0):\n",
    "    global compressed_length\n",
    "\n",
    "    all_solutions = traverse(r'C:\\Users\\dainiak\\Dropbox\\Apps\\ShareLaTeX\\\\')\n",
    "\n",
    "    old_solutions = defaultdict(lambda: defaultdict(str))\n",
    "    archives = [\n",
    "        traverse_archive(r'c:\\Users\\dainiak\\Documents\\ds_reviews\\dumps-2015\\\\', year=2015),\n",
    "        traverse_archive(r'c:\\Users\\dainiak\\Documents\\ds_reviews\\dumps-2016\\\\', year=2016)\n",
    "    ]\n",
    "    for archive in archives:\n",
    "        for problem_id in archive:\n",
    "            old_solutions[problem_id].update(archive[problem_id])\n",
    "\n",
    "    compressed_length = keydefaultdict(compressor(quality))\n",
    "\n",
    "    filtered_ids = set(all_solutions)\n",
    "    if problem_ids:\n",
    "        filtered_ids.intersection_update(problem_ids)\n",
    "    if problem_ids_exclude and not exclusion_threshold or exclusion_threshold <= 0:\n",
    "        filtered_ids.difference_update(problem_ids_exclude)\n",
    "\n",
    "    n_pairs_to_check = sum(\n",
    "        k * (k - 1) // 2\n",
    "        for k in map(\n",
    "            len,\n",
    "            (all_solutions[problem_id] for problem_id in filtered_ids)\n",
    "        )\n",
    "    )\n",
    "\n",
    "    #\n",
    "    # for problem_id in filtered_ids:\n",
    "    #     k = len(all_solutions[problem_id])\n",
    "    #     n_pairs_to_check += k * (k-1) // 2\n",
    "\n",
    "    similar_pairs = defaultdict(dict)\n",
    "\n",
    "    with tqdm(total=n_pairs_to_check) as progress_bar:\n",
    "        iteration = 0\n",
    "        for problem_id in filtered_ids:\n",
    "            if len(all_solutions[problem_id]) > 0:\n",
    "                for (i1, s1), (i2, s2) in combinations(all_solutions[problem_id].items(), 2):\n",
    "                    distance = NCD(s1, s2)\n",
    "                    iteration += 1\n",
    "                    progress_bar.update(1)\n",
    "                    if distance <= exclusion_threshold or (\n",
    "                                not problem_ids_exclude\n",
    "                                or problem_id not in problem_ids_exclude\n",
    "                            ) and distance <= threshold:\n",
    "                        similar_pairs[problem_id][(i1, i2)] = distance\n",
    "\n",
    "    n_pairs_to_check = sum(\n",
    "        len(old_solutions[problem_id]) * len(all_solutions[problem_id])\n",
    "        for problem_id in filtered_ids\n",
    "        if problem_id in old_solutions\n",
    "    )\n",
    "\n",
    "    with tqdm(total=n_pairs_to_check) as progress_bar:\n",
    "        for problem_id in filtered_ids:\n",
    "            if problem_id in old_solutions:\n",
    "                pairs_to_check = list(product(all_solutions[problem_id].items(), old_solutions[problem_id].items()))\n",
    "                if len(pairs_to_check) > 0:\n",
    "                    for (i1, s1), (i2, s2) in pairs_to_check:\n",
    "                        distance = NCD(s1, s2)\n",
    "                        progress_bar.update(1)\n",
    "                        if distance <= exclusion_threshold or (not problem_ids_exclude or problem_id not in problem_ids_exclude) and distance <= threshold:\n",
    "                            similar_pairs[problem_id][(i1, i2)] = distance\n",
    "\n",
    "    sys.stdout.flush()\n",
    "    no_duplicates = False\n",
    "    if len(similar_pairs) > 0:\n",
    "        for problem_id in similar_pairs:\n",
    "            print(f'\\nSimilar solutions for problem {problem_id}:')\n",
    "            print(', '.join(\n",
    "                f'[({pair[0]}, {pair[1]}), {round(similar_pairs[problem_id][pair], 2)}]'\n",
    "                for pair in similar_pairs[problem_id]\n",
    "            ))\n",
    "    if no_duplicates:\n",
    "        print('No duplicates')"
   ]
  },
  {
   "cell_type": "code",
   "execution_count": 4,
   "metadata": {},
   "outputs": [
    {
     "name": "stderr",
     "output_type": "stream",
     "text": [
      "\r  0%|                                                                                          | 0/462 [00:00<?, ?it/s]"
     ]
    },
    {
     "name": "stderr",
     "output_type": "stream",
     "text": [
      "\r  0%|▎                                                                                 | 2/462 [00:00<00:33, 13.74it/s]"
     ]
    },
    {
     "name": "stderr",
     "output_type": "stream",
     "text": [
      "\r  1%|▌                                                                                 | 3/462 [00:00<00:52,  8.73it/s]"
     ]
    },
    {
     "name": "stderr",
     "output_type": "stream",
     "text": [
      "\r  1%|█                                                                                 | 6/462 [00:00<00:43, 10.48it/s]"
     ]
    },
    {
     "name": "stderr",
     "output_type": "stream",
     "text": [
      "\r  2%|█▉                                                                               | 11/462 [00:00<00:32, 13.70it/s]"
     ]
    },
    {
     "name": "stderr",
     "output_type": "stream",
     "text": [
      "\r  3%|██▋                                                                              | 15/462 [00:00<00:29, 15.24it/s]"
     ]
    },
    {
     "name": "stderr",
     "output_type": "stream",
     "text": [
      "\r  4%|███▎                                                                             | 19/462 [00:00<00:24, 18.21it/s]"
     ]
    },
    {
     "name": "stderr",
     "output_type": "stream",
     "text": [
      "\r  5%|████▍                                                                            | 25/462 [00:01<00:19, 22.02it/s]"
     ]
    },
    {
     "name": "stderr",
     "output_type": "stream",
     "text": [
      "\r  7%|█████▍                                                                           | 31/462 [00:01<00:15, 26.94it/s]"
     ]
    },
    {
     "name": "stderr",
     "output_type": "stream",
     "text": [
      "\r  8%|██████▏                                                                          | 35/462 [00:01<00:16, 25.27it/s]"
     ]
    },
    {
     "name": "stderr",
     "output_type": "stream",
     "text": [
      "\r  8%|██████▊                                                                          | 39/462 [00:01<00:17, 24.16it/s]"
     ]
    },
    {
     "name": "stderr",
     "output_type": "stream",
     "text": [
      "\r  9%|███████▌                                                                         | 43/462 [00:01<00:16, 25.82it/s]"
     ]
    },
    {
     "name": "stderr",
     "output_type": "stream",
     "text": [
      "\r 10%|████████▏                                                                        | 47/462 [00:01<00:16, 24.71it/s]"
     ]
    },
    {
     "name": "stderr",
     "output_type": "stream",
     "text": [
      "\r 11%|████████▉                                                                        | 51/462 [00:01<00:15, 26.84it/s]"
     ]
    },
    {
     "name": "stderr",
     "output_type": "stream",
     "text": [
      "\r 12%|█████████▍                                                                       | 54/462 [00:02<00:15, 25.81it/s]"
     ]
    },
    {
     "name": "stderr",
     "output_type": "stream",
     "text": [
      "\r 12%|█████████▉                                                                       | 57/462 [00:02<00:16, 25.08it/s]"
     ]
    },
    {
     "name": "stderr",
     "output_type": "stream",
     "text": [
      "\r 13%|██████████▋                                                                      | 61/462 [00:02<00:15, 25.21it/s]"
     ]
    },
    {
     "name": "stderr",
     "output_type": "stream",
     "text": [
      "\r 14%|███████████▍                                                                     | 65/462 [00:02<00:14, 26.73it/s]"
     ]
    },
    {
     "name": "stderr",
     "output_type": "stream",
     "text": [
      "\r 15%|███████████▉                                                                     | 68/462 [00:02<00:16, 24.54it/s]"
     ]
    },
    {
     "name": "stderr",
     "output_type": "stream",
     "text": [
      "\r 16%|████████████▌                                                                    | 72/462 [00:02<00:14, 27.73it/s]"
     ]
    },
    {
     "name": "stderr",
     "output_type": "stream",
     "text": [
      "\r 16%|█████████████▎                                                                   | 76/462 [00:02<00:13, 29.26it/s]"
     ]
    },
    {
     "name": "stderr",
     "output_type": "stream",
     "text": [
      "\r 17%|██████████████                                                                   | 80/462 [00:03<00:13, 27.95it/s]"
     ]
    },
    {
     "name": "stderr",
     "output_type": "stream",
     "text": [
      "\r 19%|███████████████                                                                  | 86/462 [00:03<00:11, 32.89it/s]"
     ]
    },
    {
     "name": "stderr",
     "output_type": "stream",
     "text": [
      "\r 20%|████████████████▏                                                                | 92/462 [00:03<00:09, 37.79it/s]"
     ]
    },
    {
     "name": "stderr",
     "output_type": "stream",
     "text": [
      "\r 21%|█████████████████                                                                | 97/462 [00:03<00:09, 39.80it/s]"
     ]
    },
    {
     "name": "stderr",
     "output_type": "stream",
     "text": [
      "\r 22%|█████████████████▋                                                              | 102/462 [00:03<00:09, 37.39it/s]"
     ]
    },
    {
     "name": "stderr",
     "output_type": "stream",
     "text": [
      "\r 23%|██████████████████▌                                                             | 107/462 [00:03<00:09, 36.30it/s]"
     ]
    },
    {
     "name": "stderr",
     "output_type": "stream",
     "text": [
      "\r 24%|███████████████████▍                                                            | 112/462 [00:03<00:09, 38.19it/s]"
     ]
    },
    {
     "name": "stderr",
     "output_type": "stream",
     "text": [
      "\r 25%|████████████████████▎                                                           | 117/462 [00:03<00:09, 37.70it/s]"
     ]
    },
    {
     "name": "stderr",
     "output_type": "stream",
     "text": [
      "\r 26%|█████████████████████▏                                                          | 122/462 [00:04<00:08, 38.75it/s]"
     ]
    },
    {
     "name": "stderr",
     "output_type": "stream",
     "text": [
      "\r 27%|█████████████████████▉                                                          | 127/462 [00:04<00:08, 41.04it/s]"
     ]
    },
    {
     "name": "stderr",
     "output_type": "stream",
     "text": [
      "\r 29%|██████████████████████▊                                                         | 132/462 [00:04<00:08, 37.59it/s]"
     ]
    },
    {
     "name": "stderr",
     "output_type": "stream",
     "text": [
      "\r 30%|███████████████████████▋                                                        | 137/462 [00:04<00:08, 40.51it/s]"
     ]
    },
    {
     "name": "stderr",
     "output_type": "stream",
     "text": [
      "\r 31%|████████████████████████▌                                                       | 142/462 [00:04<00:07, 41.92it/s]"
     ]
    },
    {
     "name": "stderr",
     "output_type": "stream",
     "text": [
      "\r 32%|█████████████████████████▊                                                      | 149/462 [00:04<00:06, 46.51it/s]"
     ]
    },
    {
     "name": "stderr",
     "output_type": "stream",
     "text": [
      "\r 33%|██████████████████████████▋                                                     | 154/462 [00:04<00:06, 46.56it/s]"
     ]
    },
    {
     "name": "stderr",
     "output_type": "stream",
     "text": [
      "\r 35%|████████████████████████████                                                    | 162/462 [00:04<00:05, 51.78it/s]"
     ]
    },
    {
     "name": "stderr",
     "output_type": "stream",
     "text": [
      "\r 37%|█████████████████████████████▊                                                  | 172/462 [00:04<00:04, 59.19it/s]"
     ]
    },
    {
     "name": "stderr",
     "output_type": "stream",
     "text": [
      "\r 39%|██████████████████████████████▉                                                 | 179/462 [00:05<00:05, 50.60it/s]"
     ]
    },
    {
     "name": "stderr",
     "output_type": "stream",
     "text": [
      "\r 41%|████████████████████████████████▌                                               | 188/462 [00:05<00:04, 58.19it/s]"
     ]
    },
    {
     "name": "stderr",
     "output_type": "stream",
     "text": [
      "\r 42%|█████████████████████████████████▊                                              | 195/462 [00:05<00:04, 54.86it/s]"
     ]
    },
    {
     "name": "stderr",
     "output_type": "stream",
     "text": [
      "\r 44%|██████████████████████████████████▉                                             | 202/462 [00:05<00:04, 56.80it/s]"
     ]
    },
    {
     "name": "stderr",
     "output_type": "stream",
     "text": [
      "\r 46%|████████████████████████████████████▌                                           | 211/462 [00:05<00:04, 62.14it/s]"
     ]
    },
    {
     "name": "stderr",
     "output_type": "stream",
     "text": [
      "\r 47%|█████████████████████████████████████▉                                          | 219/462 [00:05<00:03, 64.89it/s]"
     ]
    },
    {
     "name": "stderr",
     "output_type": "stream",
     "text": [
      "\r 49%|███████████████████████████████████████▍                                        | 228/462 [00:05<00:03, 70.14it/s]"
     ]
    },
    {
     "name": "stderr",
     "output_type": "stream",
     "text": [
      "\r 51%|█████████████████████████████████████████                                       | 237/462 [00:05<00:03, 72.91it/s]"
     ]
    },
    {
     "name": "stderr",
     "output_type": "stream",
     "text": [
      "\r 53%|██████████████████████████████████████████▍                                     | 245/462 [00:06<00:02, 74.05it/s]"
     ]
    },
    {
     "name": "stderr",
     "output_type": "stream",
     "text": [
      "\r 55%|███████████████████████████████████████████▉                                    | 254/462 [00:06<00:02, 76.50it/s]"
     ]
    },
    {
     "name": "stderr",
     "output_type": "stream",
     "text": [
      "\r 57%|█████████████████████████████████████████████▌                                  | 263/462 [00:06<00:02, 77.70it/s]"
     ]
    },
    {
     "name": "stderr",
     "output_type": "stream",
     "text": [
      "\r 59%|██████████████████████████████████████████████▉                                 | 271/462 [00:06<00:02, 77.79it/s]"
     ]
    },
    {
     "name": "stderr",
     "output_type": "stream",
     "text": [
      "\r 60%|████████████████████████████████████████████████▎                               | 279/462 [00:06<00:02, 75.32it/s]"
     ]
    },
    {
     "name": "stderr",
     "output_type": "stream",
     "text": [
      "\r 62%|█████████████████████████████████████████████████▊                              | 288/462 [00:06<00:02, 76.85it/s]"
     ]
    },
    {
     "name": "stderr",
     "output_type": "stream",
     "text": [
      "\r 64%|███████████████████████████████████████████████████▍                            | 297/462 [00:06<00:02, 76.95it/s]"
     ]
    },
    {
     "name": "stderr",
     "output_type": "stream",
     "text": [
      "\r 66%|████████████████████████████████████████████████████▉                           | 306/462 [00:06<00:01, 79.06it/s]"
     ]
    },
    {
     "name": "stderr",
     "output_type": "stream",
     "text": [
      "\r 70%|████████████████████████████████████████████████████████                        | 324/462 [00:06<00:01, 94.44it/s]"
     ]
    },
    {
     "name": "stderr",
     "output_type": "stream",
     "text": [
      "\r 73%|█████████████████████████████████████████████████████████▉                     | 339/462 [00:07<00:01, 105.56it/s]"
     ]
    },
    {
     "name": "stderr",
     "output_type": "stream",
     "text": [
      "\r 76%|████████████████████████████████████████████████████████████▊                   | 351/462 [00:07<00:01, 96.42it/s]"
     ]
    },
    {
     "name": "stderr",
     "output_type": "stream",
     "text": [
      "\r 78%|██████████████████████████████████████████████████████████████▋                 | 362/462 [00:07<00:01, 94.67it/s]"
     ]
    },
    {
     "name": "stderr",
     "output_type": "stream",
     "text": [
      "\r 81%|████████████████████████████████████████████████████████████████▌               | 373/462 [00:07<00:01, 85.03it/s]"
     ]
    },
    {
     "name": "stderr",
     "output_type": "stream",
     "text": [
      "\r 83%|██████████████████████████████████████████████████████████████████▎             | 383/462 [00:07<00:01, 70.91it/s]"
     ]
    },
    {
     "name": "stderr",
     "output_type": "stream",
     "text": [
      "\r 85%|███████████████████████████████████████████████████████████████████▋            | 391/462 [00:07<00:01, 65.23it/s]"
     ]
    },
    {
     "name": "stderr",
     "output_type": "stream",
     "text": [
      "\r 86%|█████████████████████████████████████████████████████████████████████           | 399/462 [00:07<00:00, 64.21it/s]"
     ]
    },
    {
     "name": "stderr",
     "output_type": "stream",
     "text": [
      "\r 88%|██████████████████████████████████████████████████████████████████████▎         | 406/462 [00:08<00:01, 45.75it/s]"
     ]
    },
    {
     "name": "stderr",
     "output_type": "stream",
     "text": [
      "\r 89%|███████████████████████████████████████████████████████████████████████▎        | 412/462 [00:08<00:01, 42.54it/s]"
     ]
    },
    {
     "name": "stderr",
     "output_type": "stream",
     "text": [
      "\r 90%|████████████████████████████████████████████████████████████████████████▍       | 418/462 [00:08<00:00, 45.33it/s]"
     ]
    },
    {
     "name": "stderr",
     "output_type": "stream",
     "text": [
      "\r 92%|█████████████████████████████████████████████████████████████████████████▍      | 424/462 [00:08<00:00, 47.29it/s]"
     ]
    },
    {
     "name": "stderr",
     "output_type": "stream",
     "text": [
      "\r 93%|██████████████████████████████████████████████████████████████████████████▍     | 430/462 [00:08<00:00, 37.58it/s]"
     ]
    },
    {
     "name": "stderr",
     "output_type": "stream",
     "text": [
      "\r 94%|███████████████████████████████████████████████████████████████████████████▎    | 435/462 [00:08<00:00, 39.49it/s]"
     ]
    },
    {
     "name": "stderr",
     "output_type": "stream",
     "text": [
      "\r 95%|████████████████████████████████████████████████████████████████████████████▏   | 440/462 [00:09<00:00, 39.26it/s]"
     ]
    },
    {
     "name": "stderr",
     "output_type": "stream",
     "text": [
      "\r 96%|█████████████████████████████████████████████████████████████████████████████   | 445/462 [00:09<00:00, 36.01it/s]"
     ]
    },
    {
     "name": "stderr",
     "output_type": "stream",
     "text": [
      "\r 97%|█████████████████████████████████████████████████████████████████████████████▋  | 449/462 [00:09<00:00, 32.78it/s]"
     ]
    },
    {
     "name": "stderr",
     "output_type": "stream",
     "text": [
      "\r 98%|██████████████████████████████████████████████████████████████████████████████▍ | 453/462 [00:09<00:00, 30.66it/s]"
     ]
    },
    {
     "name": "stderr",
     "output_type": "stream",
     "text": [
      "\r 99%|███████████████████████████████████████████████████████████████████████████████▏| 457/462 [00:09<00:00, 28.95it/s]"
     ]
    },
    {
     "name": "stderr",
     "output_type": "stream",
     "text": [
      "\r100%|███████████████████████████████████████████████████████████████████████████████▊| 461/462 [00:09<00:00, 30.38it/s]"
     ]
    },
    {
     "name": "stderr",
     "output_type": "stream",
     "text": [
      "\r100%|████████████████████████████████████████████████████████████████████████████████| 462/462 [00:09<00:00, 47.12it/s]"
     ]
    },
    {
     "name": "stderr",
     "output_type": "stream",
     "text": [
      "\n"
     ]
    },
    {
     "name": "stderr",
     "output_type": "stream",
     "text": [
      "\r  0%|                                                                                          | 0/488 [00:00<?, ?it/s]"
     ]
    },
    {
     "name": "stderr",
     "output_type": "stream",
     "text": [
      "\r  1%|▊                                                                                 | 5/488 [00:00<00:11, 43.64it/s]"
     ]
    },
    {
     "name": "stderr",
     "output_type": "stream",
     "text": [
      "\r  2%|█▊                                                                               | 11/488 [00:00<00:10, 47.29it/s]"
     ]
    },
    {
     "name": "stderr",
     "output_type": "stream",
     "text": [
      "\r  3%|██▊                                                                              | 17/488 [00:00<00:09, 49.31it/s]"
     ]
    },
    {
     "name": "stderr",
     "output_type": "stream",
     "text": [
      "\r  5%|███▊                                                                             | 23/488 [00:00<00:09, 51.35it/s]"
     ]
    },
    {
     "name": "stderr",
     "output_type": "stream",
     "text": [
      "\r  6%|████▋                                                                            | 28/488 [00:00<00:09, 46.13it/s]"
     ]
    },
    {
     "name": "stderr",
     "output_type": "stream",
     "text": [
      "\r  7%|█████▍                                                                           | 33/488 [00:00<00:09, 46.75it/s]"
     ]
    },
    {
     "name": "stderr",
     "output_type": "stream",
     "text": [
      "\r  8%|██████▎                                                                          | 38/488 [00:00<00:10, 43.11it/s]"
     ]
    },
    {
     "name": "stderr",
     "output_type": "stream",
     "text": [
      "\r  9%|███████▏                                                                         | 43/488 [00:00<00:10, 44.12it/s]"
     ]
    },
    {
     "name": "stderr",
     "output_type": "stream",
     "text": [
      "\r 10%|███████▉                                                                         | 48/488 [00:01<00:10, 41.61it/s]"
     ]
    },
    {
     "name": "stderr",
     "output_type": "stream",
     "text": [
      "\r 11%|████████▊                                                                        | 53/488 [00:01<00:10, 39.97it/s]"
     ]
    },
    {
     "name": "stderr",
     "output_type": "stream",
     "text": [
      "\r 12%|█████████▉                                                                       | 60/488 [00:01<00:09, 44.81it/s]"
     ]
    },
    {
     "name": "stderr",
     "output_type": "stream",
     "text": [
      "\r 14%|██████████▉                                                                      | 66/488 [00:01<00:09, 46.46it/s]"
     ]
    },
    {
     "name": "stderr",
     "output_type": "stream",
     "text": [
      "\r 15%|███████████▊                                                                     | 71/488 [00:01<00:09, 43.10it/s]"
     ]
    },
    {
     "name": "stderr",
     "output_type": "stream",
     "text": [
      "\r 16%|████████████▌                                                                    | 76/488 [00:01<00:09, 41.69it/s]"
     ]
    },
    {
     "name": "stderr",
     "output_type": "stream",
     "text": [
      "\r 17%|█████████████▌                                                                   | 82/488 [00:01<00:09, 44.26it/s]"
     ]
    },
    {
     "name": "stderr",
     "output_type": "stream",
     "text": [
      "\r 18%|██████████████▌                                                                  | 88/488 [00:01<00:08, 46.36it/s]"
     ]
    },
    {
     "name": "stderr",
     "output_type": "stream",
     "text": [
      "\r 19%|███████████████▌                                                                 | 94/488 [00:02<00:08, 48.18it/s]"
     ]
    },
    {
     "name": "stderr",
     "output_type": "stream",
     "text": [
      "\r 20%|████████████████▍                                                               | 100/488 [00:02<00:07, 49.00it/s]"
     ]
    },
    {
     "name": "stderr",
     "output_type": "stream",
     "text": [
      "\r 22%|█████████████████▍                                                              | 106/488 [00:02<00:07, 50.92it/s]"
     ]
    },
    {
     "name": "stderr",
     "output_type": "stream",
     "text": [
      "\r 23%|██████████████████▎                                                             | 112/488 [00:02<00:07, 49.14it/s]"
     ]
    },
    {
     "name": "stderr",
     "output_type": "stream",
     "text": [
      "\r 24%|███████████████████▏                                                            | 117/488 [00:02<00:07, 46.81it/s]"
     ]
    },
    {
     "name": "stderr",
     "output_type": "stream",
     "text": [
      "\r 25%|████████████████████                                                            | 122/488 [00:02<00:08, 43.59it/s]"
     ]
    },
    {
     "name": "stderr",
     "output_type": "stream",
     "text": [
      "\r 26%|████████████████████▊                                                           | 127/488 [00:02<00:08, 44.42it/s]"
     ]
    },
    {
     "name": "stderr",
     "output_type": "stream",
     "text": [
      "\r 27%|█████████████████████▋                                                          | 132/488 [00:02<00:08, 44.18it/s]"
     ]
    },
    {
     "name": "stderr",
     "output_type": "stream",
     "text": [
      "\r 28%|██████████████████████▍                                                         | 137/488 [00:02<00:07, 44.61it/s]"
     ]
    },
    {
     "name": "stderr",
     "output_type": "stream",
     "text": [
      "\r 29%|███████████████████████▍                                                        | 143/488 [00:03<00:07, 47.35it/s]"
     ]
    },
    {
     "name": "stderr",
     "output_type": "stream",
     "text": [
      "\r 31%|████████████████████████▌                                                       | 150/488 [00:03<00:06, 51.28it/s]"
     ]
    },
    {
     "name": "stderr",
     "output_type": "stream",
     "text": [
      "\r 32%|█████████████████████████▋                                                      | 157/488 [00:03<00:06, 54.38it/s]"
     ]
    },
    {
     "name": "stderr",
     "output_type": "stream",
     "text": [
      "\r 33%|██████████████████████████▋                                                     | 163/488 [00:03<00:05, 55.24it/s]"
     ]
    },
    {
     "name": "stderr",
     "output_type": "stream",
     "text": [
      "\r 35%|███████████████████████████▋                                                    | 169/488 [00:03<00:05, 56.02it/s]"
     ]
    },
    {
     "name": "stderr",
     "output_type": "stream",
     "text": [
      "\r 36%|████████████████████████████▋                                                   | 175/488 [00:03<00:06, 51.28it/s]"
     ]
    },
    {
     "name": "stderr",
     "output_type": "stream",
     "text": [
      "\r 37%|█████████████████████████████▋                                                  | 181/488 [00:03<00:07, 43.51it/s]"
     ]
    },
    {
     "name": "stderr",
     "output_type": "stream",
     "text": [
      "\r 38%|██████████████████████████████▍                                                 | 186/488 [00:03<00:07, 39.66it/s]"
     ]
    },
    {
     "name": "stderr",
     "output_type": "stream",
     "text": [
      "\r 39%|███████████████████████████████▎                                                | 191/488 [00:04<00:07, 38.78it/s]"
     ]
    },
    {
     "name": "stderr",
     "output_type": "stream",
     "text": [
      "\r 40%|████████████████████████████████▏                                               | 196/488 [00:04<00:07, 38.99it/s]"
     ]
    },
    {
     "name": "stderr",
     "output_type": "stream",
     "text": [
      "\r 41%|████████████████████████████████▉                                               | 201/488 [00:04<00:07, 38.03it/s]"
     ]
    },
    {
     "name": "stderr",
     "output_type": "stream",
     "text": [
      "\r 42%|█████████████████████████████████▊                                              | 206/488 [00:04<00:07, 39.23it/s]"
     ]
    },
    {
     "name": "stderr",
     "output_type": "stream",
     "text": [
      "\r 43%|██████████████████████████████████▊                                             | 212/488 [00:04<00:06, 43.72it/s]"
     ]
    },
    {
     "name": "stderr",
     "output_type": "stream",
     "text": [
      "\r 45%|███████████████████████████████████▉                                            | 219/488 [00:04<00:05, 48.44it/s]"
     ]
    },
    {
     "name": "stderr",
     "output_type": "stream",
     "text": [
      "\r 46%|█████████████████████████████████████                                           | 226/488 [00:04<00:05, 52.22it/s]"
     ]
    },
    {
     "name": "stderr",
     "output_type": "stream",
     "text": [
      "\r 48%|██████████████████████████████████████▏                                         | 233/488 [00:04<00:04, 54.92it/s]"
     ]
    },
    {
     "name": "stderr",
     "output_type": "stream",
     "text": [
      "\r 49%|███████████████████████████████████████▏                                        | 239/488 [00:05<00:04, 56.18it/s]"
     ]
    },
    {
     "name": "stderr",
     "output_type": "stream",
     "text": [
      "\r 50%|████████████████████████████████████████▎                                       | 246/488 [00:05<00:04, 57.93it/s]"
     ]
    },
    {
     "name": "stderr",
     "output_type": "stream",
     "text": [
      "\r 52%|█████████████████████████████████████████▎                                      | 252/488 [00:05<00:04, 57.02it/s]"
     ]
    },
    {
     "name": "stderr",
     "output_type": "stream",
     "text": [
      "\r 53%|██████████████████████████████████████████▎                                     | 258/488 [00:05<00:04, 48.52it/s]"
     ]
    },
    {
     "name": "stderr",
     "output_type": "stream",
     "text": [
      "\r 54%|███████████████████████████████████████████▎                                    | 264/488 [00:05<00:05, 44.38it/s]"
     ]
    },
    {
     "name": "stderr",
     "output_type": "stream",
     "text": [
      "\r 55%|████████████████████████████████████████████                                    | 269/488 [00:05<00:05, 41.67it/s]"
     ]
    },
    {
     "name": "stderr",
     "output_type": "stream",
     "text": [
      "\r 56%|████████████████████████████████████████████▉                                   | 274/488 [00:05<00:05, 42.13it/s]"
     ]
    },
    {
     "name": "stderr",
     "output_type": "stream",
     "text": [
      "\r 57%|█████████████████████████████████████████████▋                                  | 279/488 [00:05<00:04, 43.24it/s]"
     ]
    },
    {
     "name": "stderr",
     "output_type": "stream",
     "text": [
      "\r 58%|██████████████████████████████████████████████▌                                 | 284/488 [00:06<00:04, 42.74it/s]"
     ]
    },
    {
     "name": "stderr",
     "output_type": "stream",
     "text": [
      "\r 59%|███████████████████████████████████████████████▍                                | 289/488 [00:06<00:04, 41.66it/s]"
     ]
    },
    {
     "name": "stderr",
     "output_type": "stream",
     "text": [
      "\r 60%|████████████████████████████████████████████████▎                               | 295/488 [00:06<00:04, 44.83it/s]"
     ]
    },
    {
     "name": "stderr",
     "output_type": "stream",
     "text": [
      "\r 62%|█████████████████████████████████████████████████▎                              | 301/488 [00:06<00:03, 46.80it/s]"
     ]
    },
    {
     "name": "stderr",
     "output_type": "stream",
     "text": [
      "\r 63%|██████████████████████████████████████████████████▎                             | 307/488 [00:06<00:03, 48.17it/s]"
     ]
    },
    {
     "name": "stderr",
     "output_type": "stream",
     "text": [
      "\r 64%|███████████████████████████████████████████████████▏                            | 312/488 [00:06<00:03, 46.71it/s]"
     ]
    },
    {
     "name": "stderr",
     "output_type": "stream",
     "text": [
      "\r 65%|████████████████████████████████████████████████████▏                           | 318/488 [00:06<00:03, 49.11it/s]"
     ]
    },
    {
     "name": "stderr",
     "output_type": "stream",
     "text": [
      "\r 67%|█████████████████████████████████████████████████████▎                          | 325/488 [00:06<00:03, 52.00it/s]"
     ]
    },
    {
     "name": "stderr",
     "output_type": "stream",
     "text": [
      "\r 68%|██████████████████████████████████████████████████████▎                         | 331/488 [00:07<00:03, 50.21it/s]"
     ]
    },
    {
     "name": "stderr",
     "output_type": "stream",
     "text": [
      "\r 69%|███████████████████████████████████████████████████████▏                        | 337/488 [00:07<00:03, 48.67it/s]"
     ]
    },
    {
     "name": "stderr",
     "output_type": "stream",
     "text": [
      "\r 70%|████████████████████████████████████████████████████████                        | 342/488 [00:07<00:03, 47.45it/s]"
     ]
    },
    {
     "name": "stderr",
     "output_type": "stream",
     "text": [
      "\r 71%|████████████████████████████████████████████████████████▉                       | 347/488 [00:07<00:03, 45.98it/s]"
     ]
    },
    {
     "name": "stderr",
     "output_type": "stream",
     "text": [
      "\r 72%|█████████████████████████████████████████████████████████▋                      | 352/488 [00:07<00:03, 43.94it/s]"
     ]
    },
    {
     "name": "stderr",
     "output_type": "stream",
     "text": [
      "\r 73%|██████████████████████████████████████████████████████████▌                     | 357/488 [00:07<00:02, 44.02it/s]"
     ]
    },
    {
     "name": "stderr",
     "output_type": "stream",
     "text": [
      "\r 74%|███████████████████████████████████████████████████████████▎                    | 362/488 [00:07<00:02, 45.40it/s]"
     ]
    },
    {
     "name": "stderr",
     "output_type": "stream",
     "text": [
      "\r 75%|████████████████████████████████████████████████████████████▎                   | 368/488 [00:07<00:02, 48.32it/s]"
     ]
    },
    {
     "name": "stderr",
     "output_type": "stream",
     "text": [
      "\r 77%|█████████████████████████████████████████████████████████████▍                  | 375/488 [00:07<00:02, 51.95it/s]"
     ]
    },
    {
     "name": "stderr",
     "output_type": "stream",
     "text": [
      "\r 78%|██████████████████████████████████████████████████████████████▍                 | 381/488 [00:08<00:01, 54.12it/s]"
     ]
    },
    {
     "name": "stderr",
     "output_type": "stream",
     "text": [
      "\r 79%|███████████████████████████████████████████████████████████████▍                | 387/488 [00:08<00:01, 53.87it/s]"
     ]
    },
    {
     "name": "stderr",
     "output_type": "stream",
     "text": [
      "\r 81%|████████████████████████████████████████████████████████████████▌               | 394/488 [00:08<00:01, 56.19it/s]"
     ]
    },
    {
     "name": "stderr",
     "output_type": "stream",
     "text": [
      "\r 82%|█████████████████████████████████████████████████████████████████▌              | 400/488 [00:08<00:01, 54.91it/s]"
     ]
    },
    {
     "name": "stderr",
     "output_type": "stream",
     "text": [
      "\r 83%|██████████████████████████████████████████████████████████████████▌             | 406/488 [00:08<00:01, 52.42it/s]"
     ]
    },
    {
     "name": "stderr",
     "output_type": "stream",
     "text": [
      "\r 85%|███████████████████████████████████████████████████████████████████▋            | 413/488 [00:08<00:01, 55.07it/s]"
     ]
    },
    {
     "name": "stderr",
     "output_type": "stream",
     "text": [
      "\r 86%|█████████████████████████████████████████████████████████████████████           | 421/488 [00:08<00:01, 59.32it/s]"
     ]
    },
    {
     "name": "stderr",
     "output_type": "stream",
     "text": [
      "\r 88%|██████████████████████████████████████████████████████████████████████▎         | 429/488 [00:08<00:00, 62.63it/s]"
     ]
    },
    {
     "name": "stderr",
     "output_type": "stream",
     "text": [
      "\r 90%|███████████████████████████████████████████████████████████████████████▋        | 437/488 [00:08<00:00, 65.50it/s]"
     ]
    },
    {
     "name": "stderr",
     "output_type": "stream",
     "text": [
      "\r 91%|████████████████████████████████████████████████████████████████████████▊       | 444/488 [00:09<00:00, 66.59it/s]"
     ]
    },
    {
     "name": "stderr",
     "output_type": "stream",
     "text": [
      "\r 93%|██████████████████████████████████████████████████████████████████████████      | 452/488 [00:09<00:00, 67.87it/s]"
     ]
    },
    {
     "name": "stderr",
     "output_type": "stream",
     "text": [
      "\r 94%|███████████████████████████████████████████████████████████████████████████▏    | 459/488 [00:09<00:00, 67.49it/s]"
     ]
    },
    {
     "name": "stderr",
     "output_type": "stream",
     "text": [
      "\r 95%|████████████████████████████████████████████████████████████████████████████▍   | 466/488 [00:09<00:00, 65.16it/s]"
     ]
    },
    {
     "name": "stderr",
     "output_type": "stream",
     "text": [
      "\r 97%|█████████████████████████████████████████████████████████████████████████████▌  | 473/488 [00:09<00:00, 62.09it/s]"
     ]
    },
    {
     "name": "stderr",
     "output_type": "stream",
     "text": [
      "\r 98%|██████████████████████████████████████████████████████████████████████████████▋ | 480/488 [00:09<00:00, 59.66it/s]"
     ]
    },
    {
     "name": "stderr",
     "output_type": "stream",
     "text": [
      "\r100%|███████████████████████████████████████████████████████████████████████████████▊| 487/488 [00:09<00:00, 56.38it/s]"
     ]
    },
    {
     "name": "stderr",
     "output_type": "stream",
     "text": [
      "\r100%|████████████████████████████████████████████████████████████████████████████████| 488/488 [00:09<00:00, 49.94it/s]"
     ]
    },
    {
     "name": "stderr",
     "output_type": "stream",
     "text": [
      "\n"
     ]
    },
    {
     "name": "stdout",
     "output_type": "stream",
     "text": [
      "\nSimilar solutions for problem 156:"
     ]
    },
    {
     "name": "stdout",
     "output_type": "stream",
     "text": [
      "\n"
     ]
    },
    {
     "name": "stdout",
     "output_type": "stream",
     "text": [
      "[(Сикалов Никита, Сунгатуллин Руслан), 0.18]"
     ]
    },
    {
     "name": "stdout",
     "output_type": "stream",
     "text": [
      "\n"
     ]
    },
    {
     "name": "stdout",
     "output_type": "stream",
     "text": [
      "\nSimilar solutions for problem 314:"
     ]
    },
    {
     "name": "stdout",
     "output_type": "stream",
     "text": [
      "\n"
     ]
    },
    {
     "name": "stdout",
     "output_type": "stream",
     "text": [
      "[(Ахметзянов Талгат, Кревский Михаил), 0.15], [(Ахметзянов Талгат, Никулов Сергей), 0.15], [(Ахметзянов Талгат, Пономаренко Николай), 0.15], [(Ахметзянов Талгат, Якупова Аделина), 0.15], [(Кревский Михаил, Никулов Сергей), 0.02], [(Кревский Михаил, Пономаренко Николай), 0.02], [(Кревский Михаил, Якупова Аделина), 0.02], [(Никулов Сергей, Пономаренко Николай), 0.02], [(Никулов Сергей, Якупова Аделина), 0.02], [(Пономаренко Николай, Якупова Аделина), 0.02]"
     ]
    },
    {
     "name": "stdout",
     "output_type": "stream",
     "text": [
      "\n"
     ]
    },
    {
     "name": "stdout",
     "output_type": "stream",
     "text": [
      "\nSimilar solutions for problem 37:"
     ]
    },
    {
     "name": "stdout",
     "output_type": "stream",
     "text": [
      "\n"
     ]
    },
    {
     "name": "stdout",
     "output_type": "stream",
     "text": [
      "[(Морковкин Василий, Пименов Павел (2016)), 0.49]"
     ]
    },
    {
     "name": "stdout",
     "output_type": "stream",
     "text": [
      "\n"
     ]
    },
    {
     "name": "stdout",
     "output_type": "stream",
     "text": [
      "\nSimilar solutions for problem 84:"
     ]
    },
    {
     "name": "stdout",
     "output_type": "stream",
     "text": [
      "\n"
     ]
    },
    {
     "name": "stdout",
     "output_type": "stream",
     "text": [
      "[(Сунгатуллин Руслан, Баскаков Никита (2016)), 0.49]"
     ]
    },
    {
     "name": "stdout",
     "output_type": "stream",
     "text": [
      "\n"
     ]
    }
   ],
   "source": [
    "find_plagiarism(\n",
    "    threshold=0.5,\n",
    "    quality=4,\n",
    "    problem_ids_exclude=[1, 128, 156, 315, 314],\n",
    "    exclusion_threshold=0.2\n",
    ")"
   ]
  },
  {
   "cell_type": "code",
   "execution_count": 5,
   "metadata": {
    "collapsed": true
   },
   "outputs": [],
   "source": []
  }
 ],
 "metadata": {
  "kernelspec": {
   "display_name": "Python 3",
   "language": "python",
   "name": "python3"
  },
  "language_info": {
   "codemirror_mode": {
    "name": "ipython",
    "version": 3
   },
   "file_extension": ".py",
   "mimetype": "text/x-python",
   "name": "python",
   "nbconvert_exporter": "python",
   "pygments_lexer": "ipython3",
   "version": "3.6.2"
  }
 },
 "nbformat": 4,
 "nbformat_minor": 1
}
